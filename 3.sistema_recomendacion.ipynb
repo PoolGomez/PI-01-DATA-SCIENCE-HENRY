{
 "cells": [
  {
   "cell_type": "code",
   "execution_count": 1,
   "metadata": {},
   "outputs": [],
   "source": [
    "import pandas as pd"
   ]
  },
  {
   "cell_type": "code",
   "execution_count": 7,
   "metadata": {},
   "outputs": [],
   "source": [
    "rating = pd.read_csv(\"datasets/score.csv\")\n",
    "titles = pd.read_csv(\"datasets/titles.csv\")"
   ]
  },
  {
   "cell_type": "code",
   "execution_count": 8,
   "metadata": {},
   "outputs": [
    {
     "name": "stderr",
     "output_type": "stream",
     "text": [
      "C:\\Users\\PC\\AppData\\Local\\Temp\\ipykernel_6928\\4158490137.py:4: FutureWarning: In a future version of pandas all arguments of DataFrame.drop except for the argument 'labels' will be keyword-only.\n",
      "  titles = titles.drop(['rating','show_id','type','director','cast','country','date_added','release_year','duration','description','platform','duration_int','duration_type'],1)\n",
      "C:\\Users\\PC\\AppData\\Local\\Temp\\ipykernel_6928\\4158490137.py:5: FutureWarning: In a future version of pandas all arguments of DataFrame.drop except for the argument 'labels' will be keyword-only.\n",
      "  rating = rating.drop('timestamp',1)\n"
     ]
    }
   ],
   "source": [
    "#quitar duplicados\n",
    "rating = rating.drop_duplicates(['userId','movieId'],keep='last')\n",
    "# se realiza modificaciones y se elimina los datos que no son importantes\n",
    "titles = titles.drop(['rating','show_id','type','director','cast','country','date_added','release_year','duration','description','platform','duration_int','duration_type'],1)\n",
    "rating = rating.drop('timestamp',1)\n",
    "titles.rename(columns={'id': 'movieId'}, inplace=True)"
   ]
  },
  {
   "cell_type": "code",
   "execution_count": 9,
   "metadata": {},
   "outputs": [
    {
     "name": "stderr",
     "output_type": "stream",
     "text": [
      "C:\\Users\\PC\\AppData\\Local\\Temp\\ipykernel_6928\\1504229114.py:17: FutureWarning: In a future version of pandas all arguments of DataFrame.drop except for the argument 'labels' will be keyword-only.\n",
      "  table_genres = title_user.drop(['movieId','title','listed_in'], 1)\n",
      "C:\\Users\\PC\\AppData\\Local\\Temp\\ipykernel_6928\\1504229114.py:23: FutureWarning: In a future version of pandas all arguments of DataFrame.drop except for the argument 'labels' will be keyword-only.\n",
      "  genres = genres.drop(['movieId','title','listed_in'], 1)\n"
     ]
    },
    {
     "data": {
      "text/plain": [
       "'recomendado'"
      ]
     },
     "execution_count": 9,
     "metadata": {},
     "output_type": "execute_result"
    }
   ],
   "source": [
    "userId= 1\n",
    "movieId = 'as2289'\n",
    "\n",
    "# se realiza la agregacion de los generos en columnas nuevas individualmente a una copia del dataframe titles\n",
    "titles_copy = titles.copy()\n",
    "for index, row in titles.iterrows():\n",
    "    for genre in row['listed_in']:\n",
    "        titles_copy.at[index, genre] = 1\n",
    "# se asigna 0 a los campos nulos\n",
    "titles_copy = titles_copy.fillna(0)\n",
    "# se obtiene las peliculas calificadas por el usuario\n",
    "user_rating_title = rating[rating['userId']==userId]\n",
    "# se asigna los generos con 0 y 1 a las peliculas califidadas por el usuario \n",
    "title_user = titles_copy[titles_copy['movieId'].isin(user_rating_title['movieId'].tolist())]\n",
    "# limpiar informacion innecesaria\n",
    "title_user = title_user.reset_index(drop = True)\n",
    "table_genres = title_user.drop(['movieId','title','listed_in'], 1)\n",
    "# se crea la matriz que refleja las preferencias del usuario en funcion al genero\n",
    "title_user = table_genres.transpose().dot(user_rating_title['rating'])\n",
    "# se extrae los generos de la tabla original\n",
    "genres = titles_copy.set_index(titles_copy['movieId'])\n",
    "# se borra informacion innecesaria\n",
    "genres = genres.drop(['movieId','title','listed_in'], 1)\n",
    "genres.shape\n",
    "# se calcula el promedio ponderado de las peliculas relacionadas con las peliculas de calificadas por el usuario\n",
    "recom = ((genres * title_user).sum(axis=1))/(title_user.sum())\n",
    "\n",
    "# se valida la pelicula dada por el usuario para verificar si tiene un promedio ponderado superior a cero\n",
    "result=''\n",
    "if(recom.filter(like=movieId).values[0] > 0):\n",
    "    result = \"recomendado\"\n",
    "else:\n",
    "    result = \"no recomendado\"\n",
    "\n",
    "result"
   ]
  }
 ],
 "metadata": {
  "kernelspec": {
   "display_name": "Python 3",
   "language": "python",
   "name": "python3"
  },
  "language_info": {
   "codemirror_mode": {
    "name": "ipython",
    "version": 3
   },
   "file_extension": ".py",
   "mimetype": "text/x-python",
   "name": "python",
   "nbconvert_exporter": "python",
   "pygments_lexer": "ipython3",
   "version": "3.10.10"
  },
  "orig_nbformat": 4
 },
 "nbformat": 4,
 "nbformat_minor": 2
}
