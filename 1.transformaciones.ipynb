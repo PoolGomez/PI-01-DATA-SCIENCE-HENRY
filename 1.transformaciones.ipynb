{
 "cells": [
  {
   "cell_type": "code",
   "execution_count": 18,
   "metadata": {},
   "outputs": [],
   "source": [
    "import pandas as pd\n",
    "import numpy as np"
   ]
  },
  {
   "cell_type": "code",
   "execution_count": 19,
   "metadata": {},
   "outputs": [],
   "source": [
    "#cargamos los ficheros csv en nuestras variables agregar una columna(platform) con el nombre de la plataforma\n",
    "df_amazon = pd.read_csv(\"datasets/amazon_prime_titles.csv\")\n",
    "df_amazon[\"platform\"] = \"amazon\"\n",
    "\n",
    "df_disney = pd.read_csv(\"datasets/disney_plus_titles.csv\")\n",
    "df_disney[\"platform\"] = \"disney\"\n",
    "\n",
    "df_hulu = pd.read_csv(\"datasets/hulu_titles.csv\")\n",
    "df_hulu[\"platform\"] = \"hulu\"\n",
    "\n",
    "df_netflix = pd.read_csv(\"datasets/netflix_titles.csv\")\n",
    "df_netflix[\"platform\"] = \"netflix\""
   ]
  },
  {
   "cell_type": "code",
   "execution_count": 20,
   "metadata": {},
   "outputs": [],
   "source": [
    "#concateno los dataframe en uno solo\n",
    "df_titles= pd.concat([df_amazon,df_disney,df_hulu,df_netflix])"
   ]
  },
  {
   "cell_type": "code",
   "execution_count": 21,
   "metadata": {},
   "outputs": [],
   "source": [
    "# CONSIGNA 1:\n",
    "# Generar campo id: Cada id se compondrá de la primera letra del nombre de la plataforma, \n",
    "# seguido del show_id ya presente en los datasets (ejemplo para títulos de Amazon = as123)\n",
    "df_titles[\"id\"] = df_titles[\"platform\"].str.slice(0,1) + df_titles[\"show_id\"]"
   ]
  },
  {
   "cell_type": "code",
   "execution_count": 22,
   "metadata": {},
   "outputs": [],
   "source": [
    "# CONSIGNA 2:\n",
    "# Los valores nulos del campo rating deberán reemplazarse por el string “G” \n",
    "# (corresponde al maturity rating: “general for all audiences”\n",
    "df_titles[\"rating\"] = df_titles[\"rating\"].replace(np.nan,'G')"
   ]
  },
  {
   "cell_type": "code",
   "execution_count": 23,
   "metadata": {},
   "outputs": [],
   "source": [
    "# CONSIGNA 3:\n",
    "# De haber fechas, deberán tener el formato AAAA-mm-dd\n",
    "df_titles[\"date_added\"] = pd.to_datetime(df_titles[\"date_added\"]).dt.strftime('%Y-%m-%d')"
   ]
  },
  {
   "cell_type": "code",
   "execution_count": 24,
   "metadata": {},
   "outputs": [],
   "source": [
    "# CONSIGNA 4:\n",
    "# Los campos de texto deberán estar en minúsculas, sin excepciones\n",
    "df_titles['show_id'] = df_titles['show_id'].str.lower()\n",
    "df_titles['type'] = df_titles['type'].str.lower()\n",
    "df_titles['title'] = df_titles['title'].str.lower()\n",
    "df_titles['director'] = df_titles['director'].str.lower()\n",
    "df_titles['cast'] = df_titles['cast'].str.lower()\n",
    "df_titles['country'] = df_titles['country'].str.lower()\n",
    "df_titles['rating'] = df_titles['rating'].str.lower()\n",
    "df_titles['duration'] = df_titles['duration'].str.lower()\n",
    "df_titles['listed_in'] = df_titles['listed_in'].str.lower()\n",
    "df_titles['description'] = df_titles['description'].str.lower()\n",
    "df_titles['platform'] = df_titles['platform'].str.lower()\n",
    "df_titles['id'] = df_titles['id'].str.lower()"
   ]
  },
  {
   "cell_type": "code",
   "execution_count": 25,
   "metadata": {},
   "outputs": [],
   "source": [
    "# CONSIGNA 5:\n",
    "# El campo duration debe convertirse en dos campos: duration_int y duration_type. \n",
    "# El primero será un integer y el segundo un string indicando la unidad de medición \n",
    "# de duración: min (minutos) o season (temporadas)\n",
    "\n",
    "#la columna duration se divide en 2 columnas duration_int y duration_type\n",
    "df_titles[['duration_int', 'duration_type']] = df_titles['duration'].str.extract('(\\d+)\\s*(\\w+)')\n",
    "\n",
    "#reemplazar seasons por season\n",
    "df_titles['duration_type'] = df_titles[\"duration_type\"].str.replace(\"seasons\", \"season\")\n",
    "\n",
    "#ADICIONAL -- reemplazar los nulos por ceros\n",
    "df_titles['duration_int'].fillna(value=0, inplace=True)\n",
    "#ADICIONAL -- convertir los valores a enteros\n",
    "df_titles['duration_int'] = df_titles['duration_int'].astype('int64')"
   ]
  },
  {
   "cell_type": "code",
   "execution_count": 27,
   "metadata": {},
   "outputs": [
    {
     "name": "stdout",
     "output_type": "stream",
     "text": [
      "<class 'pandas.core.series.Series'>\n",
      "Int64Index: 22998 entries, 0 to 8806\n",
      "Series name: duration_int\n",
      "Non-Null Count  Dtype\n",
      "--------------  -----\n",
      "22998 non-null  int64\n",
      "dtypes: int64(1)\n",
      "memory usage: 359.3 KB\n"
     ]
    }
   ],
   "source": [
    "df_titles['duration_int'].info()"
   ]
  }
 ],
 "metadata": {
  "kernelspec": {
   "display_name": "Python 3",
   "language": "python",
   "name": "python3"
  },
  "language_info": {
   "codemirror_mode": {
    "name": "ipython",
    "version": 3
   },
   "file_extension": ".py",
   "mimetype": "text/x-python",
   "name": "python",
   "nbconvert_exporter": "python",
   "pygments_lexer": "ipython3",
   "version": "3.10.10"
  },
  "orig_nbformat": 4
 },
 "nbformat": 4,
 "nbformat_minor": 2
}
