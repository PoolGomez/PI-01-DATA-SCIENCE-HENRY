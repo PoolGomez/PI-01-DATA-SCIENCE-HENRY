{
 "cells": [
  {
   "cell_type": "code",
   "execution_count": 1,
   "metadata": {},
   "outputs": [
    {
     "name": "stderr",
     "output_type": "stream",
     "text": [
      "C:\\Users\\PC\\AppData\\Local\\Temp\\ipykernel_16860\\445924649.py:3: DeprecationWarning: `import pandas_profiling` is going to be deprecated by April 1st. Please use `import ydata_profiling` instead.\n",
      "  from pandas_profiling  import ProfileReport\n"
     ]
    }
   ],
   "source": [
    "import pandas as pd\n",
    "import numpy as np\n",
    "from pandas_profiling  import ProfileReport"
   ]
  },
  {
   "cell_type": "code",
   "execution_count": 2,
   "metadata": {},
   "outputs": [],
   "source": [
    "df_rating_1 = pd.read_csv(\"datasets/1.csv\")\n",
    "df_rating_2 = pd.read_csv(\"datasets/2.csv\")\n",
    "df_rating_3 = pd.read_csv(\"datasets/3.csv\")\n",
    "df_rating_4 = pd.read_csv(\"datasets/4.csv\")\n",
    "df_rating_5 = pd.read_csv(\"datasets/5.csv\")\n",
    "df_rating_6 = pd.read_csv(\"datasets/6.csv\")\n",
    "df_rating_7 = pd.read_csv(\"datasets/7.csv\")\n",
    "df_rating_8 = pd.read_csv(\"datasets/8.csv\")\n",
    "df_rating_global = pd.concat([df_rating_1, df_rating_2, df_rating_3,df_rating_4,df_rating_5,df_rating_6,df_rating_7,df_rating_8])\n",
    "\n",
    "report_rating = ProfileReport(df_rating_global, title= 'reporte rating')"
   ]
  },
  {
   "cell_type": "code",
   "execution_count": null,
   "metadata": {},
   "outputs": [],
   "source": [
    "report_rating"
   ]
  },
  {
   "cell_type": "code",
   "execution_count": 3,
   "metadata": {},
   "outputs": [],
   "source": [
    "df_titles = pd.read_csv(\"datasets/titles.csv\")\n",
    "report_titles = ProfileReport(df_titles, title= 'reporte titles')"
   ]
  },
  {
   "cell_type": "code",
   "execution_count": null,
   "metadata": {},
   "outputs": [],
   "source": [
    "report_titles"
   ]
  },
  {
   "cell_type": "code",
   "execution_count": 4,
   "metadata": {},
   "outputs": [
    {
     "name": "stderr",
     "output_type": "stream",
     "text": [
      "C:\\Users\\PC\\AppData\\Local\\Temp\\ipykernel_16860\\3689555693.py:5: FutureWarning: In a future version of pandas all arguments of DataFrame.drop except for the argument 'labels' will be keyword-only.\n",
      "  df_titles = df_titles.drop(['rating','show_id','type','director','cast','country','date_added','release_year','duration','description','platform','duration_int','duration_type'],1)\n",
      "C:\\Users\\PC\\AppData\\Local\\Temp\\ipykernel_16860\\3689555693.py:6: FutureWarning: In a future version of pandas all arguments of DataFrame.drop except for the argument 'labels' will be keyword-only.\n",
      "  df_rating_global = df_rating_global.drop('timestamp',1)\n"
     ]
    }
   ],
   "source": [
    "#quitar duplicados\n",
    "df_rating_global = df_rating_global.drop_duplicates(['userId','movieId'],keep='last')\n",
    "\n",
    "# se realiza modificaciones y se elimina los datos que no son importantes\n",
    "df_titles = df_titles.drop(['rating','show_id','type','director','cast','country','date_added','release_year','duration','description','platform','duration_int','duration_type'],1)\n",
    "df_rating_global = df_rating_global.drop('timestamp',1)\n",
    "df_titles.rename(columns={'id': 'movieId'}, inplace=True)\n",
    "# se hace la el reemplazo de las comas con espacios y separamos por coma\n",
    "df_titles['listed_in'] = df_titles['listed_in'].str.replace(', ',',')\n",
    "df_titles['listed_in'] =df_titles['listed_in'].str.split(',')\n",
    "\n",
    "df_rating_global.to_csv(\"datasets/score.csv\", index =False)\n",
    "df_titles.to_csv(\"datasets/titles.csv\", index =False)"
   ]
  }
 ],
 "metadata": {
  "kernelspec": {
   "display_name": "Python 3",
   "language": "python",
   "name": "python3"
  },
  "language_info": {
   "codemirror_mode": {
    "name": "ipython",
    "version": 3
   },
   "file_extension": ".py",
   "mimetype": "text/x-python",
   "name": "python",
   "nbconvert_exporter": "python",
   "pygments_lexer": "ipython3",
   "version": "3.10.10"
  },
  "orig_nbformat": 4
 },
 "nbformat": 4,
 "nbformat_minor": 2
}
